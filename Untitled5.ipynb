{
 "cells": [
  {
   "cell_type": "code",
   "execution_count": 25,
   "metadata": {},
   "outputs": [],
   "source": [
    "from numpy import random\n",
    "import matplotlib.pyplot as plt\n",
    "%matplotlib inline\n",
    "import pandas as pd"
   ]
  },
  {
   "cell_type": "code",
   "execution_count": 8,
   "metadata": {},
   "outputs": [
    {
     "data": {
      "text/plain": [
       "(array([3., 0., 3., 1., 2., 2., 4., 4., 4., 3., 8., 2., 5., 1., 7., 6., 5.,\n",
       "        6., 6., 4., 5., 4., 1., 1., 5., 1., 4., 0., 1., 2.]),\n",
       " array([-2.18959208, -2.04141075, -1.89322943, -1.7450481 , -1.59686677,\n",
       "        -1.44868544, -1.30050411, -1.15232278, -1.00414145, -0.85596012,\n",
       "        -0.70777879, -0.55959746, -0.41141613, -0.26323481, -0.11505348,\n",
       "         0.03312785,  0.18130918,  0.32949051,  0.47767184,  0.62585317,\n",
       "         0.7740345 ,  0.92221583,  1.07039716,  1.21857849,  1.36675981,\n",
       "         1.51494114,  1.66312247,  1.8113038 ,  1.95948513,  2.10766646,\n",
       "         2.25584779]),\n",
       " <a list of 30 Patch objects>)"
      ]
     },
     "execution_count": 8,
     "metadata": {},
     "output_type": "execute_result"
    },
    {
     "data": {
      "image/png": "[encoded data removed]",
      "text/plain": [
       "<Figure size 432x288 with 1 Axes>"
      ]
     },
     "metadata": {},
     "output_type": "display_data"
    }
   ],
   "source": [
    "x = random.randn(100)\n",
    "plt.hist(x, bins=30)"
   ]
  },
  {
   "cell_type": "code",
   "execution_count": 13,
   "metadata": {},
   "outputs": [
    {
     "data": {
      "text/plain": [
       "(array([3., 5., 1., 1., 2., 2., 5., 4., 4., 5., 3., 5., 3., 1., 2., 5., 1.,\n",
       "        4., 3., 6., 2., 3., 8., 3., 4., 0., 3., 6., 5., 1.]),\n",
       " array([0.0036524 , 0.03675325, 0.0698541 , 0.10295496, 0.13605581,\n",
       "        0.16915666, 0.20225751, 0.23535836, 0.26845921, 0.30156006,\n",
       "        0.33466091, 0.36776176, 0.40086261, 0.43396346, 0.46706431,\n",
       "        0.50016517, 0.53326602, 0.56636687, 0.59946772, 0.63256857,\n",
       "        0.66566942, 0.69877027, 0.73187112, 0.76497197, 0.79807282,\n",
       "        0.83117367, 0.86427452, 0.89737538, 0.93047623, 0.96357708,\n",
       "        0.99667793]),\n",
       " <a list of 30 Patch objects>)"
      ]
     },
     "execution_count": 13,
     "metadata": {},
     "output_type": "execute_result"
    },
    {
     "data": {
      "image/png": "[encoded data removed]",
      "text/plain": [
       "<Figure size 432x288 with 1 Axes>"
      ]
     },
     "metadata": {},
     "output_type": "display_data"
    }
   ],
   "source": [
    "x = random.rand(100)\n",
    "plt.hist(x, bins=30)"
   ]
  },
  {
   "cell_type": "code",
   "execution_count": 17,
   "metadata": {},
   "outputs": [
    {
     "data": {
      "text/plain": [
       "(array([6., 3., 3., 2., 5., 4., 4., 1., 1., 2., 3., 2., 5., 2., 5., 4., 4.,\n",
       "        5., 2., 4., 2., 3., 4., 4., 3., 3., 3., 4., 3., 4.]),\n",
       " array([0.00479702, 0.0379045 , 0.07101198, 0.10411947, 0.13722695,\n",
       "        0.17033443, 0.20344192, 0.2365494 , 0.26965688, 0.30276437,\n",
       "        0.33587185, 0.36897933, 0.40208682, 0.4351943 , 0.46830179,\n",
       "        0.50140927, 0.53451675, 0.56762424, 0.60073172, 0.6338392 ,\n",
       "        0.66694669, 0.70005417, 0.73316165, 0.76626914, 0.79937662,\n",
       "        0.8324841 , 0.86559159, 0.89869907, 0.93180655, 0.96491404,\n",
       "        0.99802152]),\n",
       " <a list of 30 Patch objects>)"
      ]
     },
     "execution_count": 17,
     "metadata": {},
     "output_type": "execute_result"
    },
    {
     "data": {
      "image/png": "[encoded data removed]",
      "text/plain": [
       "<Figure size 432x288 with 1 Axes>"
      ]
     },
     "metadata": {},
     "output_type": "display_data"
    }
   ],
   "source": [
    "x = random.ranf(100)\n",
    "plt.hist(x, bins=30)"
   ]
  },
  {
   "cell_type": "code",
   "execution_count": 24,
   "metadata": {},
   "outputs": [
    {
     "data": {
      "text/plain": [
       "(array([2., 1., 3., 5., 3., 3., 6., 3., 0., 5., 5., 2., 2., 4., 4., 3., 3.,\n",
       "        3., 6., 4., 3., 4., 2., 4., 1., 7., 3., 1., 3., 5.]),\n",
       " array([0.0082248 , 0.04091375, 0.07360269, 0.10629164, 0.13898058,\n",
       "        0.17166953, 0.20435848, 0.23704742, 0.26973637, 0.30242531,\n",
       "        0.33511426, 0.3678032 , 0.40049215, 0.4331811 , 0.46587004,\n",
       "        0.49855899, 0.53124793, 0.56393688, 0.59662583, 0.62931477,\n",
       "        0.66200372, 0.69469266, 0.72738161, 0.76007055, 0.7927595 ,\n",
       "        0.82544845, 0.85813739, 0.89082634, 0.92351528, 0.95620423,\n",
       "        0.98889318]),\n",
       " <a list of 30 Patch objects>)"
      ]
     },
     "execution_count": 24,
     "metadata": {},
     "output_type": "execute_result"
    },
    {
     "data": {
      "image/png": "[encoded data removed]",
      "text/plain": [
       "<Figure size 432x288 with 1 Axes>"
      ]
     },
     "metadata": {},
     "output_type": "display_data"
    }
   ],
   "source": [
    "x = random.random_sample(100)\n",
    "plt.hist(x, bins=30)"
   ]
  },
  {
   "cell_type": "code",
   "execution_count": 10,
   "metadata": {},
   "outputs": [],
   "source": [
    "plt.hist(x, bins=30)"
   ]
  },
  {
   "cell_type": "code",
   "execution_count": 57,
   "metadata": {},
   "outputs": [],
   "source": [
    "x = random?"
   ]
  },
  {
   "cell_type": "code",
   "execution_count": null,
   "metadata": {},
   "outputs": [],
   "source": [
    "x = random"
   ]
  },
  {
   "cell_type": "code",
   "execution_count": null,
   "metadata": {},
   "outputs": [],
   "source": [
    "x = random"
   ]
  },
  {
   "cell_type": "code",
   "execution_count": null,
   "metadata": {},
   "outputs": [],
   "source": [
    "x = random"
   ]
  },
  {
   "cell_type": "code",
   "execution_count": null,
   "metadata": {},
   "outputs": [],
   "source": [
    "x = random"
   ]
  },
  {
   "cell_type": "code",
   "execution_count": 21,
   "metadata": {},
   "outputs": [
    {
     "name": "stdout",
     "output_type": "stream",
     "text": [
      "Object `np.random` not found.\n"
     ]
    }
   ],
   "source": [
    "x = np.random?"
   ]
  },
  {
   "cell_type": "code",
   "execution_count": null,
   "metadata": {},
   "outputs": [],
   "source": [
    "x = np.random"
   ]
  },
  {
   "cell_type": "code",
   "execution_count": 34,
   "metadata": {},
   "outputs": [],
   "source": [
    "data = random.randint(10), random.ranf(10), random.randn(10), random.rand(10)"
   ]
  },
  {
   "cell_type": "code",
   "execution_count": 55,
   "metadata": {},
   "outputs": [],
   "source": [
    "data = { 'Uni. Integer (randint)': random.randint(10), \n",
    "        'Uni. Float (ranf)': random.ranf(10), \n",
    "        'Normal dist. (randn)': random.randn(10), \n",
    "        'Uni. dist. (rand)': random.rand(10)\n",
    "}"
   ]
  },
  {
   "cell_type": "code",
   "execution_count": 56,
   "metadata": {},
   "outputs": [
    {
     "data": {
      "text/html": [
       "<div>\n",
       "<style scoped>\n",
       "    .dataframe tbody tr th:only-of-type {\n",
       "        vertical-align: middle;\n",
       "    }\n",
       "\n",
       "    .dataframe tbody tr th {\n",
       "        vertical-align: top;\n",
       "    }\n",
       "\n",
       "    .dataframe thead th {\n",
       "        text-align: right;\n",
       "    }\n",
       "</style>\n",
       "<table border=\"1\" class=\"dataframe\">\n",
       "  <thead>\n",
       "    <tr style=\"text-align: right;\">\n",
       "      <th></th>\n",
       "      <th>Uni. Integer (randint)</th>\n",
       "      <th>Uni. Float (ranf)</th>\n",
       "      <th>Normal dist. (randn)</th>\n",
       "      <th>Uni. dist. (rand)</th>\n",
       "    </tr>\n",
       "  </thead>\n",
       "  <tbody>\n",
       "    <tr>\n",
       "      <th>0</th>\n",
       "      <td>9</td>\n",
       "      <td>0.805632</td>\n",
       "      <td>1.127174</td>\n",
       "      <td>0.984091</td>\n",
       "    </tr>\n",
       "    <tr>\n",
       "      <th>1</th>\n",
       "      <td>9</td>\n",
       "      <td>0.321354</td>\n",
       "      <td>0.384973</td>\n",
       "      <td>0.666356</td>\n",
       "    </tr>\n",
       "    <tr>\n",
       "      <th>2</th>\n",
       "      <td>9</td>\n",
       "      <td>0.790405</td>\n",
       "      <td>-0.180307</td>\n",
       "      <td>0.904911</td>\n",
       "    </tr>\n",
       "    <tr>\n",
       "      <th>3</th>\n",
       "      <td>9</td>\n",
       "      <td>0.009271</td>\n",
       "      <td>0.183916</td>\n",
       "      <td>0.322732</td>\n",
       "    </tr>\n",
       "    <tr>\n",
       "      <th>4</th>\n",
       "      <td>9</td>\n",
       "      <td>0.749171</td>\n",
       "      <td>-1.265429</td>\n",
       "      <td>0.122073</td>\n",
       "    </tr>\n",
       "    <tr>\n",
       "      <th>5</th>\n",
       "      <td>9</td>\n",
       "      <td>0.193423</td>\n",
       "      <td>-0.143660</td>\n",
       "      <td>0.375023</td>\n",
       "    </tr>\n",
       "    <tr>\n",
       "      <th>6</th>\n",
       "      <td>9</td>\n",
       "      <td>0.991609</td>\n",
       "      <td>-0.910561</td>\n",
       "      <td>0.432154</td>\n",
       "    </tr>\n",
       "    <tr>\n",
       "      <th>7</th>\n",
       "      <td>9</td>\n",
       "      <td>0.142620</td>\n",
       "      <td>0.012431</td>\n",
       "      <td>0.893001</td>\n",
       "    </tr>\n",
       "    <tr>\n",
       "      <th>8</th>\n",
       "      <td>9</td>\n",
       "      <td>0.527657</td>\n",
       "      <td>-0.272680</td>\n",
       "      <td>0.675943</td>\n",
       "    </tr>\n",
       "    <tr>\n",
       "      <th>9</th>\n",
       "      <td>9</td>\n",
       "      <td>0.954472</td>\n",
       "      <td>0.565917</td>\n",
       "      <td>0.163544</td>\n",
       "    </tr>\n",
       "  </tbody>\n",
       "</table>\n",
       "</div>"
      ],
      "text/plain": [
       "   Uni. Integer (randint)  Uni. Float (ranf)  Normal dist. (randn)  \\\n",
       "0                       9           0.805632              1.127174   \n",
       "1                       9           0.321354              0.384973   \n",
       "2                       9           0.790405             -0.180307   \n",
       "3                       9           0.009271              0.183916   \n",
       "4                       9           0.749171             -1.265429   \n",
       "5                       9           0.193423             -0.143660   \n",
       "6                       9           0.991609             -0.910561   \n",
       "7                       9           0.142620              0.012431   \n",
       "8                       9           0.527657             -0.272680   \n",
       "9                       9           0.954472              0.565917   \n",
       "\n",
       "   Uni. dist. (rand)  \n",
       "0           0.984091  \n",
       "1           0.666356  \n",
       "2           0.904911  \n",
       "3           0.322732  \n",
       "4           0.122073  \n",
       "5           0.375023  \n",
       "6           0.432154  \n",
       "7           0.893001  \n",
       "8           0.675943  \n",
       "9           0.163544  "
      ]
     },
     "execution_count": 56,
     "metadata": {},
     "output_type": "execute_result"
    }
   ],
   "source": [
    "pd.DataFrame(data)"
   ]
  },
  {
   "cell_type": "code",
   "execution_count": 59,
   "metadata": {},
   "outputs": [],
   "source": [
    "random.ranf?"
   ]
  },
  {
   "cell_type": "code",
   "execution_count": 3,
   "metadata": {},
   "outputs": [],
   "source": [
    "ProfessorClass = [49,51,56,59,91,63,56,10,43,47,52,55,54,55,58,92,55,55,53,51,56,49]\n",
    "GraduateClass =  [59,45,51,53,57,56,57,55,49,49,74,59,59,71,67,61,56,59,61,61,64,65]"
   ]
  },
  {
   "cell_type": "code",
   "execution_count": 15,
   "metadata": {},
   "outputs": [],
   "source": [
    "import numpy as np\n",
    "from scipy import stats\n",
    "import matplotlib.pyplot as plt"
   ]
  },
  {
   "cell_type": "code",
   "execution_count": 6,
   "metadata": {},
   "outputs": [
    {
     "data": {
      "text/plain": [
       "(55.0, 58.54545454545455)"
      ]
     },
     "execution_count": 6,
     "metadata": {},
     "output_type": "execute_result"
    }
   ],
   "source": [
    "np.mean(ProfessorClass), np.mean(GraduateClass)"
   ]
  },
  {
   "cell_type": "code",
   "execution_count": 8,
   "metadata": {},
   "outputs": [
    {
     "data": {
      "text/plain": [
       "(55.0, 59.0)"
      ]
     },
     "execution_count": 8,
     "metadata": {},
     "output_type": "execute_result"
    }
   ],
   "source": [
    "np.median(ProfessorClass), np.median(GraduateClass)"
   ]
  },
  {
   "cell_type": "code",
   "execution_count": 34,
   "metadata": {},
   "outputs": [
    {
     "data": {
      "text/plain": [
       "(82, 29)"
      ]
     },
     "execution_count": 34,
     "metadata": {},
     "output_type": "execute_result"
    }
   ],
   "source": [
    "np.max(ProfessorClass) - np.min(ProfessorClass), np.max(GraduateClass) - np.min(GraduateClass)"
   ]
  },
  {
   "cell_type": "code",
   "execution_count": 28,
   "metadata": {},
   "outputs": [
    {
     "data": {
      "text/plain": [
       "(15.237513517034799, 6.873713252987611)"
      ]
     },
     "execution_count": 28,
     "metadata": {},
     "output_type": "execute_result"
    }
   ],
   "source": [
    "np.std(ProfessorClass), np.std(GraduateClass)"
   ]
  },
  {
   "cell_type": "code",
   "execution_count": 12,
   "metadata": {},
   "outputs": [
    {
     "data": {
      "text/plain": [
       "(ModeResult(mode=array([55]), count=array([4])),\n",
       " ModeResult(mode=array([59]), count=array([4])))"
      ]
     },
     "execution_count": 12,
     "metadata": {},
     "output_type": "execute_result"
    }
   ],
   "source": [
    "stats.mode(ProfessorClass), stats.mode(GraduateClass)"
   ]
  },
  {
   "cell_type": "code",
   "execution_count": 16,
   "metadata": {},
   "outputs": [
    {
     "data": {
      "text/plain": [
       "(array([ 1.,  0.,  0.,  0.,  4., 14.,  1.,  0.,  0.,  2.]),\n",
       " array([10. , 18.2, 26.4, 34.6, 42.8, 51. , 59.2, 67.4, 75.6, 83.8, 92. ]),\n",
       " <a list of 10 Patch objects>)"
      ]
     },
     "execution_count": 16,
     "metadata": {},
     "output_type": "execute_result"
    },
    {
     "data": {
      "image/png": "[encoded data removed]",
      "text/plain": [
       "<Figure size 432x288 with 1 Axes>"
      ]
     },
     "metadata": {},
     "output_type": "display_data"
    }
   ],
   "source": [
    "plt.hist(ProfessorClass)"
   ]
  },
  {
   "cell_type": "code",
   "execution_count": 23,
   "metadata": {},
   "outputs": [
    {
     "data": {
      "text/plain": [
       "(array([1., 2., 2., 3., 6., 3., 2., 1., 1., 1.]),\n",
       " array([45. , 47.9, 50.8, 53.7, 56.6, 59.5, 62.4, 65.3, 68.2, 71.1, 74. ]),\n",
       " <a list of 10 Patch objects>)"
      ]
     },
     "execution_count": 23,
     "metadata": {},
     "output_type": "execute_result"
    },
    {
     "data": {
      "image/png": "[encoded data removed]",
      "text/plain": [
       "<Figure size 432x288 with 1 Axes>"
      ]
     },
     "metadata": {},
     "output_type": "display_data"
    }
   ],
   "source": [
    "plt.hist(GraduateClass, )"
   ]
  },
  {
   "cell_type": "code",
   "execution_count": 29,
   "metadata": {},
   "outputs": [
    {
     "data": {
      "text/plain": [
       "array([10, 43, 47, 49, 49, 51, 51, 52, 53, 54, 55, 55, 55, 55, 56, 56, 56,\n",
       "       58, 59, 63, 91, 92])"
      ]
     },
     "execution_count": 29,
     "metadata": {},
     "output_type": "execute_result"
    }
   ],
   "source": [
    "np.sort(ProfessorClass)"
   ]
  },
  {
   "cell_type": "code",
   "execution_count": 32,
   "metadata": {},
   "outputs": [
    {
     "data": {
      "text/plain": [
       "{'whiskers': [<matplotlib.lines.Line2D at 0x1aecb74dba8>,\n",
       "  <matplotlib.lines.Line2D at 0x1aecc728080>],\n",
       " 'caps': [<matplotlib.lines.Line2D at 0x1aecc7284a8>,\n",
       "  <matplotlib.lines.Line2D at 0x1aecc728c88>],\n",
       " 'boxes': [<matplotlib.lines.Line2D at 0x1aecb74da58>],\n",
       " 'medians': [<matplotlib.lines.Line2D at 0x1aecc7288d0>],\n",
       " 'fliers': [<matplotlib.lines.Line2D at 0x1aecc730160>],\n",
       " 'means': []}"
      ]
     },
     "execution_count": 32,
     "metadata": {},
     "output_type": "execute_result"
    },
    {
     "data": {
      "image/png": "[encoded data removed]",
      "text/plain": [
       "<Figure size 432x288 with 1 Axes>"
      ]
     },
     "metadata": {},
     "output_type": "display_data"
    }
   ],
   "source": [
    "plt.boxplot(ProfessorClass)"
   ]
  },
  {
   "cell_type": "code",
   "execution_count": 33,
   "metadata": {},
   "outputs": [
    {
     "data": {
      "text/plain": [
       "{'whiskers': [<matplotlib.lines.Line2D at 0x1aecb53a8d0>,\n",
       "  <matplotlib.lines.Line2D at 0x1aecb53ad68>],\n",
       " 'caps': [<matplotlib.lines.Line2D at 0x1aecb549438>,\n",
       "  <matplotlib.lines.Line2D at 0x1aecb549400>],\n",
       " 'boxes': [<matplotlib.lines.Line2D at 0x1aecb53a198>],\n",
       " 'medians': [<matplotlib.lines.Line2D at 0x1aecb549d30>],\n",
       " 'fliers': [<matplotlib.lines.Line2D at 0x1aecb43c160>],\n",
       " 'means': []}"
      ]
     },
     "execution_count": 33,
     "metadata": {},
     "output_type": "execute_result"
    },
    {
     "data": {
      "image/png": "[encoded data removed]",
      "text/plain": [
       "<Figure size 432x288 with 1 Axes>"
      ]
     },
     "metadata": {},
     "output_type": "display_data"
    }
   ],
   "source": [
    "plt.boxplot(GraduateClass)"
   ]
  },
  {
   "cell_type": "code",
   "execution_count": 36,
   "metadata": {},
   "outputs": [],
   "source": [
    "lst1 = [5,4,8,12]"
   ]
  },
  {
   "cell_type": "code",
   "execution_count": 37,
   "metadata": {},
   "outputs": [
    {
     "data": {
      "text/plain": [
       "7.25"
      ]
     },
     "execution_count": 37,
     "metadata": {},
     "output_type": "execute_result"
    }
   ],
   "source": [
    "np.mean(lst1)"
   ]
  },
  {
   "cell_type": "code",
   "execution_count": 39,
   "metadata": {},
   "outputs": [
    {
     "data": {
      "text/plain": [
       "9.6875"
      ]
     },
     "execution_count": 39,
     "metadata": {},
     "output_type": "execute_result"
    }
   ],
   "source": [
    "np.std(lst1)**2"
   ]
  }
 ],
 "metadata": {
  "kernelspec": {
   "display_name": "Python 3",
   "language": "python",
   "name": "python3"
  },
  "language_info": {
   "codemirror_mode": {
    "name": "ipython",
    "version": 3
   },
   "file_extension": ".py",
   "mimetype": "text/x-python",
   "name": "python",
   "nbconvert_exporter": "python",
   "pygments_lexer": "ipython3",
   "version": "3.6.5"
  }
 },
 "nbformat": 4,
 "nbformat_minor": 2
}

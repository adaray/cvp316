{
 "cells": [
  {
   "cell_type": "code",
   "execution_count": 1,
   "metadata": {},
   "outputs": [],
   "source": [
    "import pandas as pd\n",
    "import numpy as np\n",
    "import matplotlib.pyplot as plt\n",
    "import seaborn as sns\n",
    "plt.style.use('seaborn-whitegrid')\n",
    "%matplotlib inline"
   ]
  },
  {
   "cell_type": "code",
   "execution_count": 9,
   "metadata": {},
   "outputs": [],
   "source": [
    "#Calculating Heating Energy Consumption of a House\n",
    "VA = 3.12\n",
    "Rsi = 0.13\n",
    "Rso =1/(6.16 + (4.19*VA))\n",
    "Uw = 1/(Rsi+1.5+Rso)\n",
    "Upw = 0\n",
    "Ur = 1/(Rsi+0.14+Rso)\n",
    "Ud = 3\n",
    "Uf = 1/(Rsi+0.63+Rso)\n",
    "Ug = 2\n",
    "ACH = 0.588\n",
    "Ag = 31.82\n",
    "Ad = 6.18\n",
    "AlivingR = 3.99*3.9\n",
    "fwlength, swlength, w_height = 3.99+0.12+0.95+0.12+3.8, 2.8+0.12+3.9, 5.2\n",
    "Aw = (fwlength+swlength*2)*w_height - Ag-Ad\n",
    "Ar = swlength*fwlength\n",
    "Af =  Ar*2\n",
    "Apw = fwlength*w_height\n",
    "V = fwlength*swlength*w_height\n",
    "Da = 1.2\n",
    "Cp = 1.01\n",
    "\n",
    "Avtemp = 21*AlivingR/Af + 18.5*(1-AlivingR/Af)\n",
    "#CALCULATING HEAT TRANSFER COEFFICIENT\n",
    "HTC = ((Uw*Aw+Upw*Apw+Ur*Ar+Ud*Ad+Uf*Af+Ug*Ag) + (Da*Cp*V*0.589*0.33))/1000\n",
    "#LOAD MEASURED DATA\n",
    "df = pd.read_csv('..\\\\measured_values.csv',skiprows=1, parse_dates=True, index_col=0)\n",
    "\n",
    "#SET POINT TEMPERATURE\n",
    "df['cTdesign'] = Avtemp - df.Tout\n",
    "#ACTUAL MEASURED TEMPERATURE\n",
    "df['cTadj'] = df['AllTin'] - df.Tout\n",
    "#CALCULATIONS OF HEAT ENERGY BASED ON SCHEDULED TEMPERATURE\n",
    "df['Measured'] = HTC * df['cTdesign']/0.88\n",
    "df['MeasuredSync'] = HTC * df['cTdesign']/0.88 * df.GasUsed/df.GasUsed\n",
    "#CALCULATIONS OF HEAT ENERGY BASED ON ACTUAL MEASURED TEMPERATURES\n",
    "df['MeasuredAdj'] = HTC * df.cTadj/0.88\n",
    "df['MeasuredSyncAdj'] = HTC * df.cTadj/0.88 * df.GasUsed/df.GasUsed\n",
    "#MEASURED GAS USE IN KWH - ACCOUNTING FOR BOILER EFFICIENCY\n",
    "df['Metered'] = df['GasUsed']*0.88\n",
    "\n",
    "df.fillna(0, inplace=True)"
   ]
  },
  {
   "cell_type": "code",
   "execution_count": 10,
   "metadata": {},
   "outputs": [
    {
     "data": {
      "text/plain": [
       "4764.091033517211"
      ]
     },
     "execution_count": 10,
     "metadata": {},
     "output_type": "execute_result"
    }
   ],
   "source": [
    "df.Measured.sum()"
   ]
  },
  {
   "cell_type": "code",
   "execution_count": null,
   "metadata": {},
   "outputs": [],
   "source": []
  }
 ],
 "metadata": {
  "kernelspec": {
   "display_name": "Python 3",
   "language": "python",
   "name": "python3"
  },
  "language_info": {
   "codemirror_mode": {
    "name": "ipython",
    "version": 3
   },
   "file_extension": ".py",
   "mimetype": "text/x-python",
   "name": "python",
   "nbconvert_exporter": "python",
   "pygments_lexer": "ipython3",
   "version": "3.6.5"
  }
 },
 "nbformat": 4,
 "nbformat_minor": 2
}
